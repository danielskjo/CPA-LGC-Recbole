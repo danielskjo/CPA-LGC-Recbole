{
 "cells": [
  {
   "cell_type": "markdown",
   "id": "a479585c",
   "metadata": {},
   "source": [
    "### Preprocessing example to construct MC Expansion graph for Recbole implementation\n",
    "Codes written by Jin-Duk Park (jindeok6@yonsei.ac.kr)"
   ]
  },
  {
   "cell_type": "code",
   "execution_count": 3,
   "id": "239d2a73",
   "metadata": {},
   "outputs": [
    {
     "name": "stderr",
     "output_type": "stream",
     "text": [
      "c:\\Users\\CSE\\anaconda3\\envs\\GL\\lib\\site-packages\\tqdm\\auto.py:22: TqdmWarning: IProgress not found. Please update jupyter and ipywidgets. See https://ipywidgets.readthedocs.io/en/stable/user_install.html\n",
      "  from .autonotebook import tqdm as notebook_tqdm\n"
     ]
    }
   ],
   "source": [
    "import random\n",
    "import numpy as np\n",
    "import pandas as pd\n",
    "import torch\n",
    "from torch import nn\n",
    "from torch.utils.data import DataLoader, TensorDataset\n",
    "import networkx as nx\n",
    "import json"
   ]
  },
  {
   "cell_type": "code",
   "execution_count": 4,
   "id": "3925bebd",
   "metadata": {},
   "outputs": [
    {
     "name": "stdout",
     "output_type": "stream",
     "text": [
      "# user: 1827\n",
      "# item: 1471\n"
     ]
    }
   ],
   "source": [
    "# Load dataset\n",
    "rating = pd.read_csv('multi_YM.csv')\n",
    "\n",
    "rating.rename(columns = {'UserID':'user_id', 'ItemID':'item_id'}, inplace = True)\n",
    "\n",
    "print( \"# user:\", len(rating[\"user_id\"].unique()))\n",
    "print( \"# item:\", len(rating[\"item_id\"].unique()))"
   ]
  },
  {
   "cell_type": "code",
   "execution_count": 4,
   "id": "d8b00829",
   "metadata": {},
   "outputs": [
    {
     "data": {
      "text/html": [
       "<div>\n",
       "<style scoped>\n",
       "    .dataframe tbody tr th:only-of-type {\n",
       "        vertical-align: middle;\n",
       "    }\n",
       "\n",
       "    .dataframe tbody tr th {\n",
       "        vertical-align: top;\n",
       "    }\n",
       "\n",
       "    .dataframe thead th {\n",
       "        text-align: right;\n",
       "    }\n",
       "</style>\n",
       "<table border=\"1\" class=\"dataframe\">\n",
       "  <thead>\n",
       "    <tr style=\"text-align: right;\">\n",
       "      <th></th>\n",
       "      <th>user_id</th>\n",
       "      <th>item_id</th>\n",
       "      <th>overall</th>\n",
       "      <th>Visuals</th>\n",
       "      <th>Direction</th>\n",
       "      <th>Story</th>\n",
       "      <th>Acting</th>\n",
       "    </tr>\n",
       "  </thead>\n",
       "  <tbody>\n",
       "    <tr>\n",
       "      <th>0</th>\n",
       "      <td>2</td>\n",
       "      <td>1800018620</td>\n",
       "      <td>5</td>\n",
       "      <td>5</td>\n",
       "      <td>5</td>\n",
       "      <td>5</td>\n",
       "      <td>5</td>\n",
       "    </tr>\n",
       "    <tr>\n",
       "      <th>1</th>\n",
       "      <td>2</td>\n",
       "      <td>1800021959</td>\n",
       "      <td>5</td>\n",
       "      <td>5</td>\n",
       "      <td>5</td>\n",
       "      <td>5</td>\n",
       "      <td>5</td>\n",
       "    </tr>\n",
       "    <tr>\n",
       "      <th>2</th>\n",
       "      <td>2</td>\n",
       "      <td>1800024314</td>\n",
       "      <td>5</td>\n",
       "      <td>5</td>\n",
       "      <td>5</td>\n",
       "      <td>5</td>\n",
       "      <td>5</td>\n",
       "    </tr>\n",
       "    <tr>\n",
       "      <th>3</th>\n",
       "      <td>2</td>\n",
       "      <td>1800040967</td>\n",
       "      <td>5</td>\n",
       "      <td>5</td>\n",
       "      <td>5</td>\n",
       "      <td>5</td>\n",
       "      <td>5</td>\n",
       "    </tr>\n",
       "    <tr>\n",
       "      <th>4</th>\n",
       "      <td>2</td>\n",
       "      <td>1800242776</td>\n",
       "      <td>2</td>\n",
       "      <td>1</td>\n",
       "      <td>2</td>\n",
       "      <td>1</td>\n",
       "      <td>2</td>\n",
       "    </tr>\n",
       "    <tr>\n",
       "      <th>...</th>\n",
       "      <td>...</td>\n",
       "      <td>...</td>\n",
       "      <td>...</td>\n",
       "      <td>...</td>\n",
       "      <td>...</td>\n",
       "      <td>...</td>\n",
       "      <td>...</td>\n",
       "    </tr>\n",
       "    <tr>\n",
       "      <th>50684</th>\n",
       "      <td>129642</td>\n",
       "      <td>1808411888</td>\n",
       "      <td>1</td>\n",
       "      <td>5</td>\n",
       "      <td>5</td>\n",
       "      <td>5</td>\n",
       "      <td>5</td>\n",
       "    </tr>\n",
       "    <tr>\n",
       "      <th>50685</th>\n",
       "      <td>129642</td>\n",
       "      <td>1808413978</td>\n",
       "      <td>5</td>\n",
       "      <td>5</td>\n",
       "      <td>5</td>\n",
       "      <td>5</td>\n",
       "      <td>5</td>\n",
       "    </tr>\n",
       "    <tr>\n",
       "      <th>50686</th>\n",
       "      <td>129642</td>\n",
       "      <td>1808420230</td>\n",
       "      <td>5</td>\n",
       "      <td>5</td>\n",
       "      <td>5</td>\n",
       "      <td>5</td>\n",
       "      <td>5</td>\n",
       "    </tr>\n",
       "    <tr>\n",
       "      <th>50687</th>\n",
       "      <td>129642</td>\n",
       "      <td>1808439408</td>\n",
       "      <td>5</td>\n",
       "      <td>5</td>\n",
       "      <td>5</td>\n",
       "      <td>5</td>\n",
       "      <td>5</td>\n",
       "    </tr>\n",
       "    <tr>\n",
       "      <th>50688</th>\n",
       "      <td>129642</td>\n",
       "      <td>1808481189</td>\n",
       "      <td>3</td>\n",
       "      <td>5</td>\n",
       "      <td>5</td>\n",
       "      <td>5</td>\n",
       "      <td>5</td>\n",
       "    </tr>\n",
       "  </tbody>\n",
       "</table>\n",
       "<p>50689 rows × 7 columns</p>\n",
       "</div>"
      ],
      "text/plain": [
       "       user_id     item_id  overall  Visuals  Direction  Story  Acting\n",
       "0            2  1800018620        5        5          5      5       5\n",
       "1            2  1800021959        5        5          5      5       5\n",
       "2            2  1800024314        5        5          5      5       5\n",
       "3            2  1800040967        5        5          5      5       5\n",
       "4            2  1800242776        2        1          2      1       2\n",
       "...        ...         ...      ...      ...        ...    ...     ...\n",
       "50684   129642  1808411888        1        5          5      5       5\n",
       "50685   129642  1808413978        5        5          5      5       5\n",
       "50686   129642  1808420230        5        5          5      5       5\n",
       "50687   129642  1808439408        5        5          5      5       5\n",
       "50688   129642  1808481189        3        5          5      5       5\n",
       "\n",
       "[50689 rows x 7 columns]"
      ]
     },
     "execution_count": 4,
     "metadata": {},
     "output_type": "execute_result"
    }
   ],
   "source": [
    "rating"
   ]
  },
  {
   "cell_type": "code",
   "execution_count": 5,
   "id": "112f7137",
   "metadata": {},
   "outputs": [],
   "source": [
    "# Thresholding each criteria\n",
    "\n",
    "thresholds = [3, 3, 3, 3, 3] \n",
    "\n",
    "# overall \n",
    "rating[\"overall\"][rating[\"overall\"] < thresholds[0]] = 0\n",
    "rating[\"overall\"][rating[\"overall\"] >= thresholds[0]] = 1\n",
    "\n",
    "# app\n",
    "rating[\"Visuals\"][rating[\"Visuals\"] < thresholds[1]] = 0\n",
    "rating[\"Visuals\"][rating[\"Visuals\"] >= thresholds[1]] = 1\n",
    "\n",
    "# aroma\n",
    "rating[\"Direction\"][rating[\"Direction\"] < thresholds[2]] = 0\n",
    "rating[\"Direction\"][rating[\"Direction\"] >= thresholds[2]] = 1\n",
    "\n",
    "# palate\n",
    "rating[\"Story\"][rating[\"Story\"] < thresholds[3]] = 0\n",
    "rating[\"Story\"][rating[\"Story\"] >= thresholds[3]] = 1\n",
    "\n",
    "# taste\n",
    "rating[\"Acting\"][rating[\"Acting\"] < thresholds[4]] = 0\n",
    "rating[\"Acting\"][rating[\"Acting\"] >= thresholds[4]] = 1\n"
   ]
  },
  {
   "cell_type": "code",
   "execution_count": 6,
   "id": "81fe8aa5",
   "metadata": {},
   "outputs": [],
   "source": [
    "# Drop 0 overall ratings\n",
    "rating = rating.drop(rating[rating[\"overall\"] == 0].index)"
   ]
  },
  {
   "cell_type": "code",
   "execution_count": 5,
   "id": "31556662",
   "metadata": {},
   "outputs": [
    {
     "name": "stdout",
     "output_type": "stream",
     "text": [
      "# user: 1827\n",
      "# item: 1471\n",
      "# ratings: 50689\n",
      "Density: 0.0189\n"
     ]
    }
   ],
   "source": [
    "# n core settings\n",
    "core = 5\n",
    "\n",
    "# 1. count frequencies\n",
    "users_to_drop= rating[\"user_id\"].value_counts() < core\n",
    "users_to_drop = users_to_drop.index[users_to_drop].tolist()\n",
    "rating = rating[~rating['user_id'].isin(users_to_drop)]\n",
    "\n",
    "\n",
    "n_user = len(rating[\"user_id\"].unique())\n",
    "n_item = len(rating[\"item_id\"].unique())\n",
    "\n",
    "print( \"# user:\", n_user)\n",
    "print( \"# item:\", n_item)\n",
    "print( \"# ratings:\", len(rating))\n",
    "print(f\"Density: {(len(rating)/(len(rating['user_id'].unique())*len(rating['item_id'].unique()))):.4f}\")"
   ]
  },
  {
   "cell_type": "code",
   "execution_count": 6,
   "id": "1bb4fe03",
   "metadata": {},
   "outputs": [],
   "source": [
    "# Reordering all\n",
    "# key : xxx_core // value : [range[0, len(xxx_new)]]\n",
    "users_core = rating[\"user_id\"].unique().tolist()\n",
    "items_core = rating[\"item_id\"].unique().tolist()\n",
    "user_order = [*range(len(users_core))]\n",
    "item_order = [*range(len(items_core))]\n",
    "\n",
    "user_id_dict = {users_core[i]: user_order[i] for i in range(len(users_core))}\n",
    "item_id_dict = {items_core[i]: item_order[i] for i in range(len(items_core))}\n",
    "\n",
    "# Replace with new orderings\n",
    "rating = rating.replace({\"user_id\": user_id_dict})\n",
    "rating = rating.replace({\"item_id\": item_id_dict})\n"
   ]
  },
  {
   "cell_type": "code",
   "execution_count": 9,
   "id": "9f1e55ee",
   "metadata": {},
   "outputs": [],
   "source": [
    "rating.to_csv('YM_multi_graph.csv', index=None )"
   ]
  },
  {
   "cell_type": "code",
   "execution_count": 7,
   "id": "29c42c1e",
   "metadata": {},
   "outputs": [],
   "source": [
    "# Random split\n",
    "tr = 0.7\n",
    "val = 0.1\n",
    "ts = 0.2\n",
    "\n",
    "tr_list = []\n",
    "val_list = []\n",
    "tval_list = []\n",
    "ts_list = []\n",
    "\n",
    "# Suffle ratings\n",
    "rating = rating.sample(frac=1) \n",
    "\n",
    "for u in range(len(rating[\"user_id\"].unique())):\n",
    "    u_rating = rating[rating['user_id'] == u]\n",
    "\n",
    "    num_edges = len(u_rating)\n",
    "    tr_num_edges = int(num_edges * tr)\n",
    "    val_num_edges = int(num_edges * val)\n",
    "    ts_num_edges = int(num_edges * ts)\n",
    "\n",
    "    tr_list.append(u_rating.iloc[:tr_num_edges])\n",
    "    val_list.append(u_rating.iloc[tr_num_edges:tr_num_edges+val_num_edges])\n",
    "    ts_list.append(u_rating.iloc[tr_num_edges+val_num_edges:])\n",
    "\n",
    "tval_list = tr_list+tval_list\n",
    "\n",
    "tr_rating = pd.concat(tr_list)\n",
    "val_rating = pd.concat(val_list)\n",
    "tval_rating = pd.concat(tval_list)\n",
    "ts_rating = pd.concat(ts_list)\n"
   ]
  },
  {
   "cell_type": "code",
   "execution_count": 8,
   "id": "3d6f18bb",
   "metadata": {},
   "outputs": [],
   "source": [
    "tr_rating.sort_values(by=['user_id'], inplace =True)\n",
    "val_rating.sort_values(by=['user_id'], inplace =True)\n",
    "tval_rating.sort_values(by=['user_id'], inplace =True)\n",
    "ts_rating.sort_values(by=['user_id'], inplace =True)"
   ]
  },
  {
   "cell_type": "code",
   "execution_count": 22,
   "id": "df42d5a8",
   "metadata": {},
   "outputs": [
    {
     "name": "stderr",
     "output_type": "stream",
     "text": [
      "C:\\Users\\CSE\\AppData\\Local\\Temp\\ipykernel_37700\\3157869277.py:15: SettingWithCopyWarning: \n",
      "A value is trying to be set on a copy of a slice from a DataFrame.\n",
      "Try using .loc[row_indexer,col_indexer] = value instead\n",
      "\n",
      "See the caveats in the documentation: https://pandas.pydata.org/pandas-docs/stable/user_guide/indexing.html#returning-a-view-versus-a-copy\n",
      "  r2['item_id'] += n_item * (idx + 1)\n",
      "C:\\Users\\CSE\\AppData\\Local\\Temp\\ipykernel_37700\\3157869277.py:15: SettingWithCopyWarning: \n",
      "A value is trying to be set on a copy of a slice from a DataFrame.\n",
      "Try using .loc[row_indexer,col_indexer] = value instead\n",
      "\n",
      "See the caveats in the documentation: https://pandas.pydata.org/pandas-docs/stable/user_guide/indexing.html#returning-a-view-versus-a-copy\n",
      "  r2['item_id'] += n_item * (idx + 1)\n",
      "C:\\Users\\CSE\\AppData\\Local\\Temp\\ipykernel_37700\\3157869277.py:15: SettingWithCopyWarning: \n",
      "A value is trying to be set on a copy of a slice from a DataFrame.\n",
      "Try using .loc[row_indexer,col_indexer] = value instead\n",
      "\n",
      "See the caveats in the documentation: https://pandas.pydata.org/pandas-docs/stable/user_guide/indexing.html#returning-a-view-versus-a-copy\n",
      "  r2['item_id'] += n_item * (idx + 1)\n",
      "C:\\Users\\CSE\\AppData\\Local\\Temp\\ipykernel_37700\\3157869277.py:15: SettingWithCopyWarning: \n",
      "A value is trying to be set on a copy of a slice from a DataFrame.\n",
      "Try using .loc[row_indexer,col_indexer] = value instead\n",
      "\n",
      "See the caveats in the documentation: https://pandas.pydata.org/pandas-docs/stable/user_guide/indexing.html#returning-a-view-versus-a-copy\n",
      "  r2['item_id'] += n_item * (idx + 1)\n"
     ]
    }
   ],
   "source": [
    "# MC Expansion graph construction, for training set\n",
    "# MC Expansion graph is consructed by concatenating dataframe with shifted indices for different criterion-item nodes\n",
    "\n",
    "n_user = len(rating['user_id'].unique())\n",
    "n_item = len(rating['item_id'].unique())\n",
    "\n",
    "# Split rating, and stack\n",
    "cri_list = list(rating.columns)\n",
    "cri_list.remove('overall')\n",
    "cri_list.remove('user_id')\n",
    "cri_list.remove('item_id')\n",
    "\n",
    "r1 = tr_rating[['user_id','item_id', 'overall']]\n",
    "\n",
    "for idx, cri in enumerate(cri_list):\n",
    "    r2 = tr_rating[['user_id','item_id', cri]]\n",
    "    r2['item_id'] += n_item * (idx + 1)\n",
    "    r2 = r2.rename(columns = {cri:'overall'})\n",
    "    r2 = r2[r2['overall'] == 1]\n",
    "    r1 = pd.concat([r1,r2], ignore_index=True, axis=0)\n",
    "tr_rating_for_test = tr_rating\n",
    "tr_rating = r1"
   ]
  },
  {
   "cell_type": "code",
   "execution_count": 23,
   "id": "53ea093b",
   "metadata": {},
   "outputs": [],
   "source": [
    "# For Recbole\n",
    "import copy\n",
    "def df2inter(rating, area:str):\n",
    "    inter_rating = copy.deepcopy(rating)\n",
    "    inter_rating.rename(columns = {'overall':'rating:float', 'value':'value:float', 'Visuals':'Visuals:float','Direction':'Direction:float','Story':'Story:float','Acting':'Acting:float', \"user_id\":'user_id:token', \"item_id\":\"item_id:token\"}, inplace = True)\n",
    "    inter_rating.to_csv(f'../../../baseline/Recbole/YM5.{area}.inter', index=False, sep='\\t')\n",
    "    return inter_rating\n",
    "\n",
    "inter_rating = copy.deepcopy(rating)\n",
    "inter_rating.rename(columns = {'overall':'rating:float', 'value':'value:float', 'Visuals':'Visuals:float','Direction':'Direction:float','Story':'Story:float','Acting':'Acting:float', \"user_id\":'user_id:token', \"item_id\":\"item_id:token\"}, inplace = True)\n",
    "inter_rating.to_csv('../../../baseline/Recbole/YM5.inter', index=False, sep='\\t')\n",
    "\n",
    "\n",
    "df2inter(tr_rating, \"tr\")\n",
    "df2inter(val_rating, \"val\")\n",
    "df2inter(ts_rating, \"ts\")"
   ]
  },
  {
   "cell_type": "code",
   "execution_count": null,
   "id": "6726b515",
   "metadata": {},
   "outputs": [],
   "source": []
  }
 ],
 "metadata": {
  "kernelspec": {
   "display_name": "base",
   "language": "python",
   "name": "python3"
  },
  "language_info": {
   "codemirror_mode": {
    "name": "ipython",
    "version": 3
   },
   "file_extension": ".py",
   "mimetype": "text/x-python",
   "name": "python",
   "nbconvert_exporter": "python",
   "pygments_lexer": "ipython3",
   "version": "3.8.13"
  },
  "vscode": {
   "interpreter": {
    "hash": "e5e7e908986eb504874c73244d8f81fe3f9967af36719548260cfac1cfc6df0d"
   }
  }
 },
 "nbformat": 4,
 "nbformat_minor": 5
}
